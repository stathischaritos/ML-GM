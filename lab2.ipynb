{
 "metadata": {
  "name": ""
 },
 "nbformat": 3,
 "nbformat_minor": 0,
 "worksheets": [
  {
   "cells": [
    {
     "cell_type": "markdown",
     "metadata": {},
     "source": [
      "# Lab 2: Inference in Graphical Models\n",
      "\n",
      "### Machine Learning: Principles and Methods, November 2013\n",
      "\n",
      "* The lab exercises should be made in groups of three people, or at least two people.\n",
      "* The deadline is Wednesday, Nov 27, 23:59.\n",
      "* Assignment should be sent to T.S.Cohen at uva dot nl (Taco Cohen). The subject line of your email should be \"[MLPM2013] lab#_lastname1\\_lastname2\\_lastname3\". \n",
      "* Put your and your teammates' names in the body of the email\n",
      "* Attach the .IPYNB (IPython Notebook) file containing your code and answers. Naming of the file follows the same rule as the subject line. For example, if the subject line is \"[MLPM2013] lab01\\_Kingma\\_Hu\", the attached file should be \"lab01\\_Kingma\\_Hu.ipynb\". Only use underscores (\"\\_\") to connect names, otherwise the files cannot be parsed.\n",
      "\n",
      "Notes on implementation:\n",
      "\n",
      "* You should write your code and answers in an IPython Notebook: http://ipython.org/notebook.html. If you have problems, please contact us.\n",
      "* Among the first lines of your notebook should be \"%pylab inline\". This imports all required modules, and your plots will appear inline.\n",
      "* NOTE: test your code and make sure we can run your notebook / scripts!"
     ]
    },
    {
     "cell_type": "markdown",
     "metadata": {},
     "source": [
      "### Introduction\n",
      "In this assignment, we will implement the sum-product and max-sum algorithms for factor graphs over discrete variables. The relevant theory is covered in chapter 8 of Bishop's PRML book, in particular section 8.4. Read this chapter carefuly before continuing!\n",
      "\n",
      "We will first implement sum-product and max-sum and apply it to a simple poly-tree structured factor graph for medical diagnosis. Then, we will implement a loopy version of the algorithms and use it for image denoising.\n",
      "\n",
      "For this assignment we recommended you stick to numpy ndarrays (constructed with np.array, np.zeros, np.ones, etc.) as opposed to numpy matrices, because arrays can store n-dimensional arrays whereas matrices only work for 2d arrays. We need n-dimensional arrays in order to store conditional distributions with more than 1 conditioning variable. If you want to perform matrix multiplication on arrays, use the np.dot function; all infix operators including *, +, -, work element-wise on arrays."
     ]
    },
    {
     "cell_type": "code",
     "collapsed": false,
     "input": [
      "%pylab inline\n",
      "class Node(object):\n",
      "    \"\"\"\n",
      "    Base-class for Nodes in a factor graph. Only instantiate sub-classes of Node.\n",
      "    \"\"\"\n",
      "    def __init__(self, name):\n",
      "        # A name for this Node, for printing purposes\n",
      "        self.name = name\n",
      "        \n",
      "        # Neighbours in the graph, identified with their index in this list.\n",
      "        # i.e. self.neighbours contains neighbour 0 through len(self.neighbours) - 1.\n",
      "        self.neighbours = []\n",
      "        \n",
      "        # Reset the node-state (not the graph topology)\n",
      "        self.reset()\n",
      "        \n",
      "    def reset(self):\n",
      "        # Incomming messages; a dictionary mapping neighbours to messages.\n",
      "        # That is, it maps  Node -> np.ndarray.\n",
      "        self.in_msgs = {}\n",
      "        \n",
      "        # A set of neighbours for which this node has pending messages.\n",
      "        # We use a python set object so we don't have to worry about duplicates.\n",
      "        self.pending = set([])\n",
      "        \n",
      "        self.loopy = False\n",
      "\n",
      "    def add_neighbour(self, nb):\n",
      "        self.neighbours.append(nb)\n",
      "\n",
      "    def send_sp_msg(self, other):\n",
      "        # To be implemented in subclass.\n",
      "        raise Exception('Method send_sp_msg not implemented in base-class Node')\n",
      "   \n",
      "    def send_ms_msg(self, other):\n",
      "        # To be implemented in subclass.\n",
      "        raise Exception('Method send_ms_msg not implemented in base-class Node')\n",
      "    \n",
      "    def receive_msg(self, other, msg):\n",
      "        ##################### Receive Incoming Message #################################################\n",
      "        ## Store the incomming message, replacing previous messages from the same node.\n",
      "        self.in_msgs[other.name] = msg\n",
      "        \n",
      "        ## Check which neighbours to put in the pending list . Here we get a list of the names of all the neighbours.\n",
      "        message_keys = set(self.in_msgs.keys())\n",
      "        nb_names = []\n",
      "        for nb in self.neighbours:\n",
      "            nb_names += [nb.name]\n",
      "        \n",
      "        ## Depending on wether we are using the loopy or non-loopy version of the algorithm , we need to \n",
      "        ## either put all remaining neighbours to pending , or just the ones that we can send a message to.\n",
      "        if not self.loopy :\n",
      "            for neighbor in self.neighbours:\n",
      "                if neighbor.name==other.name: \n",
      "                    continue\n",
      "                p = set(nb_names)\n",
      "                p.remove(neighbor.name)\n",
      "                if p.issubset(message_keys):\n",
      "                    self.pending.add(neighbor)\n",
      "        else:\n",
      "            p = self.neighbours\n",
      "            p.remove(other)\n",
      "            self.pending.update(p)\n",
      "        ################################################################################################\n",
      "       \n",
      "    \n",
      "    def __str__(self):\n",
      "        # This is printed when using 'print node_instance'\n",
      "        return self.name\n",
      "\n",
      "\n",
      "class Variable(Node):\n",
      "    def __init__(self, name, num_states):\n",
      "        \"\"\"\n",
      "        Variable node constructor.\n",
      "        Args:\n",
      "            name: a name string for this node. Used for printing. \n",
      "            num_states: the number of states this variable can take.\n",
      "            Allowable states run from 0 through (num_states - 1).\n",
      "            For example, for a binary variable num_states=2,\n",
      "            and the allowable states are 0, 1.\n",
      "        \"\"\"\n",
      "        self.num_states = num_states\n",
      "        \n",
      "        # Call the base-class constructor\n",
      "        super(Variable, self).__init__(name)\n",
      "    \n",
      "    def set_observed(self, observed_state):\n",
      "        \"\"\"\n",
      "        Set this variable to an observed state.\n",
      "        Args:\n",
      "            observed_state: an integer value in [0, self.num_states - 1].\n",
      "        \"\"\"\n",
      "        # Observed state is represented as a 1-of-N variable\n",
      "        # Could be 0.0 for sum-product, but log(0.0) = -inf so a tiny value is preferable for max-sum\n",
      "        self.observed_state[:] = 0.000001\n",
      "        self.observed_state[observed_state] = 1.0\n",
      "        \n",
      "    def set_latent(self):\n",
      "        \"\"\"\n",
      "        Erase an observed state for this variable and consider it latent again.\n",
      "        \"\"\"\n",
      "        # No state is preferred, so set all entries of observed_state to 1.0\n",
      "        # Using this representation we need not differentiate observed an latent\n",
      "        # variables when sending messages.\n",
      "        self.observed_state[:] = 1.0\n",
      "        \n",
      "    def reset(self):\n",
      "        super(Variable, self).reset()\n",
      "        self.observed_state = np.ones(self.num_states)\n",
      "        \n",
      "    def marginal(self, Z=None):\n",
      "        ####################### Variable Marginal Distribution ##############################################\n",
      "        ## Compute the marginal distribution of this Variable. It is assumed that message passing has completed\n",
      "        ## when this function is called.\n",
      "        ##    Args:\n",
      "        ##         Z: an optional normalization constant can be passed in. If None is passed, Z is computed.\n",
      "        ##    Returns: marginal, Z. The first is a numpy array containing the normalized marginal distribution.\n",
      "        \n",
      "        message = self.observed_state.copy()\n",
      "        for m in self.in_msgs:\n",
      "            for i in range(len(message)):\n",
      "                message[i] *= self.in_msgs[m][i]\n",
      "                \n",
      "        ## Z is either equal to the input Z, or computed in this function (if Z=None was passed).\n",
      "        if Z==None:  \n",
      "            Z = sum(message) \n",
      "            \n",
      "        message = message/Z\n",
      "        return message , Z\n",
      "        #####################################################################################################\n",
      "\n",
      "    def map_state(self):\n",
      "        ######################## Variable MAP state #########################################################\n",
      "        ## Get the MAP state of the variable after running the max-sum algorithm .We assume that we have \n",
      "        ## already run the max-sum algorithm before we run this method.\n",
      "        message = log(self.observed_state.copy())\n",
      "        for m in self.in_msgs:\n",
      "            #message += self.in_msgs[m]\n",
      "            for i in range(len(message)):\n",
      "                message[i] += self.in_msgs[m][i]\n",
      "        return argmax(message) \n",
      "        #####################################################################################################\n",
      "    \n",
      "    def send_sp_msg(self, other):\n",
      "        ######################### Sum-Product Message Sending ###############################################\n",
      "        ## Message is initialised as the observed state (if not observed it is all 'ones'). After that we \n",
      "        ## multiply all incoming messages by element.\n",
      "        message = self.observed_state.copy()\n",
      "        for i in self.neighbours:\n",
      "            if i.name != other.name:\n",
      "                assert i.name in self.in_msgs\n",
      "                for j in range(len(message)):\n",
      "                    message[j] *= self.in_msgs[i.name][j]\n",
      "        ## Finaly we send the message to the 'other' node by calling its 'receive_msg' method  , and remove\n",
      "        ## 'other' from pending.\n",
      "        print self.name +\" -----  \" , message , \" -------> \" + other.name\n",
      "        other.receive_msg(self, message)\n",
      "        self.pending.remove(other)\n",
      "        #####################################################################################################\n",
      "           \n",
      "    def send_ms_msg(self, other):\n",
      "        ######################### Max-Sum Message Sending ###################################################\n",
      "        ## Message is now initialised as the ln of the observed state. After that we sum all incoming mesages\n",
      "        message = log(self.observed_state.copy())\n",
      "        for i in self.neighbours:\n",
      "            if i.name != other.name:\n",
      "                assert i.name in self.in_msgs\n",
      "                message += self.in_msgs[i.name]\n",
      "        ## Finaly we send the message to the 'other' node by calling its 'receive_msg' method , and remove\n",
      "        ## 'other' from pending.\n",
      "        print self.name +\" -----  \" , message , \" -------> \" + other.name\n",
      "        other.receive_msg(self, message)\n",
      "        self.pending.remove(other)\n",
      "        #####################################################################################################\n",
      "\n",
      "class Factor(Node):\n",
      "    def __init__(self, name, f, neighbours):\n",
      "        \"\"\"\n",
      "        Factor node constructor.\n",
      "        Args:\n",
      "            name: a name string for this node. Used for printing\n",
      "            f: a numpy.ndarray with N axes, where N is the number of neighbours.\n",
      "               That is, the axes of f correspond to variables, and the index along that axes corresponds to a value of that variable.\n",
      "               Each axis of the array should have as many entries as the corresponding neighbour variable has states.\n",
      "            neighbours: a list of neighbouring Variables. Bi-directional connections are created.\n",
      "        \"\"\"\n",
      "        # Call the base-class constructor\n",
      "        super(Factor, self).__init__(name)\n",
      "        assert len(neighbours) == f.ndim, 'Factor function f should accept as many arguments as this Factor node has neighbours'\n",
      "        \n",
      "        for nb_ind in range(len(neighbours)):\n",
      "            nb = neighbours[nb_ind]\n",
      "            assert f.shape[nb_ind] == nb.num_states, 'The range of the factor function f is invalid for input %i %s' % (nb_ind, nb.name)\n",
      "            self.add_neighbour(nb)\n",
      "            nb.add_neighbour(self)\n",
      "\n",
      "        self.f = f\n",
      "        \n",
      "    def send_sp_msg(self, other):\n",
      "        ######################### Sum-Product Message Sending ###############################################\n",
      "        ## To send a message to other we need to filter out all the incoming messages that come from 'other'\n",
      "        ## and get the indexes of all the remaining neighbours.\n",
      "        incoming_messages = []\n",
      "        incoming_indexes = []\n",
      "        for i in self.neighbours:\n",
      "            if i.name != other.name:\n",
      "                assert i.name in self.in_msgs\n",
      "                incoming_messages+= [self.in_msgs[i.name] ]\n",
      "                incoming_indexes += [self.neighbours.index(i)]\n",
      "                \n",
      "        ## Then we create a tensor using all the incoming messages and using tensordot we marginalise out all\n",
      "        ## the 'incoming' nodes (all nodes except the one we send to). \n",
      "        M = np.multiply.reduce(np.ix_(*incoming_messages)) \n",
      "        message = tensordot( self.f, M , (tuple(incoming_indexes) , tuple(range(len(incoming_indexes))) ) )\n",
      "        \n",
      "        ## Finaly we send the message to the 'other' node by calling its 'receive_msg' method , and remove\n",
      "        ## 'other' from pending.\n",
      "        print self.name +\" -----  \" , message , \" -------> \" + other.name\n",
      "        other.receive_msg(self , message)\n",
      "        self.pending.remove(other)\n",
      "        #####################################################################################################\n",
      "        \n",
      "    def send_ms_msg(self, other):\n",
      "        ######################### Max-Sum Message Sending ###################################################\n",
      "        ## To send a message to other we need to filter out all the incoming messages that come from 'other'\n",
      "        ## and get the indexes of all the remaining neighbours.\n",
      "        incoming_messages = []\n",
      "        incoming_indexes = []\n",
      "        for i in self.neighbours:\n",
      "            if i.name != other.name:\n",
      "                assert i.name in self.in_msgs\n",
      "                incoming_messages+= [self.in_msgs[i.name] ]\n",
      "                incoming_indexes += [self.neighbours.index(i)]\n",
      "                \n",
      "        ## In the Max-Sum we add instead of multiplying , as we now use logarithm values.         \n",
      "        M = np.add.reduce(np.ix_(*incoming_messages)) \n",
      "        BigMatrix = log(self.f) + M\n",
      "        \n",
      "        ## Finaly we need to get the maximum values for every case of 'other' . To do this we need to find\n",
      "        ## the index value of 'other' and transpose the big matrix accordingly. Then we run amax() for all the\n",
      "        ## number of states of 'other'.\n",
      "        index_other = self.neighbours.index(other)\n",
      "        params =  [index_other]  + incoming_indexes\n",
      "        b = transpose(BigMatrix, tuple(params))\n",
      "        message = []\n",
      "        for i in range(other.num_states):\n",
      "            message += [amax(b[i])]\n",
      "            \n",
      "        ## Finaly we send the message to the 'other' node by calling its 'receive_msg' method , and remove\n",
      "        ## 'other' from pending.\n",
      "        print self.name +\" -----  \" , message , \" -------> \" + other.name\n",
      "        other.receive_msg(self , message)\n",
      "        self.pending.remove(other)\n",
      "        #####################################################################################################"
     ],
     "language": "python",
     "metadata": {},
     "outputs": [
      {
       "output_type": "stream",
       "stream": "stdout",
       "text": [
        "Populating the interactive namespace from numpy and matplotlib\n"
       ]
      }
     ],
     "prompt_number": 6
    },
    {
     "cell_type": "markdown",
     "metadata": {},
     "source": [
      "## Part 1: The sum-product algorithm\n",
      "\n",
      "We will implement a datastructure to store a factor graph and to facilitate computations on this graph. Recall that a factor graph consists of two types of nodes, factors and variables. Below you will find some classes for these node types to get you started. Carefully inspect this code and make sure you understand what it does; you will have to build on it later."
     ]
    },
    {
     "cell_type": "markdown",
     "metadata": {},
     "source": [
      "### 1.1 Instantiate network (10 points)\n",
      "Convert the directed graphical model (\"Bayesian Network\") shown below to a factor graph. Instantiate this graph by creating Variable and Factor instances and linking them according to the graph structure. \n",
      "To instantiate the factor graph, first create the Variable nodes and then create Factor nodes, passing a list of neighbour Variables to each Factor.\n",
      "Use the following prior and conditional probabilities.\n",
      "\n",
      "$$\n",
      "p(\\verb+Influenza+) = 0.05 \\\\\\\\\n",
      "p(\\verb+Smokes+) = 0.2 \\\\\\\\\n",
      "$$\n",
      "\n",
      "$$\n",
      "p(\\verb+SoreThroat+ = 1 | \\verb+Influenza+ = 1) = 0.3 \\\\\\\\\n",
      "p(\\verb+SoreThroat+ = 1 | \\verb+Influenza+ = 0) = 0.001 \\\\\\\\\n",
      "p(\\verb+Fever+ = 1| \\verb+Influenza+ = 1) = 0.9 \\\\\\\\\n",
      "p(\\verb+Fever+ = 1| \\verb+Influenza+ = 0) 0.05 \\\\\\\\\n",
      "p(\\verb+Bronchitis+ = 1 | \\verb+Influenza+ = 1, \\verb+Smokes+ = 1) = 0.99 \\\\\\\\\n",
      "p(\\verb+Bronchitis+ = 1 | \\verb+Influenza+ = 1, \\verb+Smokes+ = 0) = 0.9 \\\\\\\\\n",
      "p(\\verb+Bronchitis+ = 1 | \\verb+Influenza+ = 0, \\verb+Smokes+ = 1) = 0.7 \\\\\\\\\n",
      "p(\\verb+Bronchitis+ = 1 | \\verb+Influenza+ = 0, \\verb+Smokes+ = 0) = 0.0001 \\\\\\\\\n",
      "p(\\verb+Coughing+ = 1| \\verb+Bronchitis+ = 1) = 0.8 \\\\\\\\\n",
      "p(\\verb+Coughing+ = 1| \\verb+Bronchitis+ = 0) = 0.07 \\\\\\\\\n",
      "p(\\verb+Wheezing+ = 1| \\verb+Bronchitis+ = 1) = 0.6 \\\\\\\\\n",
      "p(\\verb+Wheezing+ = 1| \\verb+Bronchitis+ = 0) = 0.001 \\\\\\\\\n",
      "$$"
     ]
    },
    {
     "cell_type": "code",
     "collapsed": false,
     "input": [
      "from IPython.core.display import Image \n",
      "Image(filename='bn.png') "
     ],
     "language": "python",
     "metadata": {},
     "outputs": [
      {
       "metadata": {},
       "output_type": "pyout",
       "png": "[encoded data removed]",
       "prompt_number": 3,
       "text": [
        "<IPython.core.display.Image at 0x370b210>"
       ]
      }
     ],
     "prompt_number": 3
    },
    {
     "cell_type": "code",
     "collapsed": false,
     "input": [
      "Influenza = Variable(\"Influenza\",2)\n",
      "Smokes = Variable(\"Smokes\",2)\n",
      "SoreThroat = Variable(\"SoreThroat\",2)\n",
      "Fever = Variable(\"Fever\",2)\n",
      "Bronchitis = Variable(\"Bronchitis\",2)\n",
      "Coughing = Variable(\"Coughing\",2)\n",
      "Wheezing = Variable(\"Wheezing\",2)\n",
      "\n",
      "f_I = Factor(\"f_I\" , array([0.95 , 0.05]) ,[Influenza])\n",
      "f_Sm = Factor(\"f_Sm\" , array([0.8 , 0.2]) ,[Smokes])\n",
      "f_ISo = Factor(\"f_ISo\" , array( [[0.999, 0.001] ,[0.7 , 0.3] ]) , [Influenza ,SoreThroat] )\n",
      "f_IF = Factor(\"f_IF\" , array( [[0.95, 0.05],[0.1 , 0.9] ]) , [Influenza ,Fever] )\n",
      "f_ISB = Factor(\"f_ISB\",array( [ [ [0.9999, 0.3],[0.1 , 0.01] ] , [ [0.0001, 0.7],[0.9 , 0.99] ] ] ) , [ Bronchitis ,Influenza ,Smokes] )\n",
      "f_CB = Factor(\"f_CB\" , array( [[0.93, 0.2],[0.07 , 0.8] ]) , [Coughing ,Bronchitis] )\n",
      "f_WB = Factor(\"f_WB\" , array( [[0.999, 0.4],[0.001 , 0.6] ]) , [Wheezing ,Bronchitis] )\n"
     ],
     "language": "python",
     "metadata": {},
     "outputs": [],
     "prompt_number": 22
    },
    {
     "cell_type": "markdown",
     "metadata": {},
     "source": [
      "### 1.2 Factor to variable messages (20 points)\n",
      "Write a method `send_sp_msg(self, other)` for the Factor class, that checks if all the information required to pass a message to Variable `other` is present, computes the message and sends it to `other`. \"Sending\" here simply means calling the `receive_msg` function of the receiving node (we will implement this later). The message itself should be represented as a numpy array (np.array) whose length is equal to the number of states of the variable.\n",
      "\n",
      "An elegant and efficient solution can be obtained using the n-way outer product of vectors. This product takes n vectors $\\mathbf{x}^{(1)}, \\ldots, \\mathbf{x}^{(n)}$ and computes a $n$-dimensional tensor (ndarray) whose element $i_0,i_1,...,i_n$ is given by $\\prod_j \\mathbf{x}^{(j)}_{i_j}$. In python, this is realized as `np.multiply.reduce(np.ix_(*vectors))` for a python list `vectors` of 1D numpy arrays. Try to figure out how this statement works -- it contains some useful functional programming techniques. Another function that you may find useful in computing the message is `np.tensordot`."
     ]
    },
    {
     "cell_type": "markdown",
     "metadata": {},
     "source": [
      "### 1.3 Variable to factor messages (10 points)\n",
      "\n",
      "Write a method `send_sp_message(self, other)` for the Variable class, that checks if all the information required to pass a message to Variable var is present, computes the message and sends it to factor."
     ]
    },
    {
     "cell_type": "markdown",
     "metadata": {},
     "source": [
      "### 1.4 Compute marginal (10 points)\n",
      "Later in this assignment, we will implement message passing schemes to do inference. Once the message passing has completed, we will want to compute local marginals for each variable.\n",
      "Write the method `marginal` for the Variable class, that computes a marginal distribution over that node."
     ]
    },
    {
     "cell_type": "markdown",
     "metadata": {},
     "source": [
      "### 1.5 Receiving messages (10 points)\n",
      "In order to implement the loopy and non-loopy message passing algorithms, we need some way to determine which nodes are ready to send messages to which neighbours. To do this in a way that works for both loopy and non-loopy algorithms, we make use of the concept of \"pending messages\", which is explained in Bishop (8.4.7): \n",
      "\"we will say that a (variable or factor)\n",
      "node a has a message pending on its link to a node b if node a has received any\n",
      "message on any of its other links since the last time it send (sic) a message to b. Thus,\n",
      "when a node receives a message on one of its links, this creates pending messages\n",
      "on all of its other links.\"\n",
      "\n",
      "Keep in mind that for the non-loopy algorithm, nodes may not have received any messages on some or all of their links. Therefore, before we say node a has a pending message for node b, we must check that node a has received all messages needed to compute the message that is to be sent to b.\n",
      "\n",
      "Modify the function `receive_msg`, so that it updates the self.pending variable as described above. The member self.pending is a set that is to be filled with Nodes to which self has pending messages. Modify the `send_msg` functions to remove pending messages as they are sent."
     ]
    },
    {
     "cell_type": "markdown",
     "metadata": {},
     "source": [
      "### 1.6 Inference Engine (10 points)\n",
      "Write a function `sum_product(node_list)` that runs the sum-product message passing algorithm on a tree-structured factor graph with given nodes. The input parameter `node_list` is a list of all Node instances in the graph, which is assumed to be ordered correctly. That is, the list starts with a leaf node, which can always send a message. Subsequent nodes in `node_list` should be capable of sending a message when the pending messages of preceding nodes in the list have been sent. The sum-product algorithm then proceeds by passing over the list from beginning to end, sending all pending messages at the nodes it encounters. Then, in reverse order, the algorithm traverses the list again and again sends all pending messages at each node as it is encountered. For this to work, you must initialize pending messages for all the leaf nodes, e.g. `influenza_prior.pending.add(influenza)`, where `influenza_prior` is a Factor node corresponding the the prior, `influenza` is a Variable node and the only connection of `influenza_prior` goes to `influenza`.\n",
      "\n",
      "\n"
     ]
    },
    {
     "cell_type": "code",
     "collapsed": false,
     "input": [
      "node_list = [f_I, f_Sm ,Coughing,Wheezing , \n",
      "             SoreThroat, f_CB, f_WB , Smokes, f_IF,\n",
      "             Bronchitis, f_ISB, Influenza , f_ISo , Fever]\n",
      "\n",
      "###################### Sum-Product Algorithm #############################\n",
      "def sum_product(node_list):\n",
      "    ## First we go from the Leaves to Root Node\n",
      "    for node in node_list:\n",
      "        if len(node.neighbours) == 1:\n",
      "            node.pending.add(node.neighbours[0])\n",
      "        pend = node.pending.copy()\n",
      "        for other in pend:\n",
      "            node.send_sp_msg(other)\n",
      "    ## And then from Root back to the Leaves. We discard the 1st node \n",
      "    ## because we have already sent this message    \n",
      "    node_list.reverse()\n",
      "    for node in node_list[1:]:\n",
      "        pend = node.pending.copy()\n",
      "        for other in pend:\n",
      "            node.send_sp_msg(other)\n",
      "##########################################################################\n",
      "\n",
      "## Test Run\n",
      "sum_product(node_list)\n",
      "print Smokes.marginal()"
     ],
     "language": "python",
     "metadata": {},
     "outputs": [
      {
       "output_type": "stream",
       "stream": "stdout",
       "text": [
        "f_I -----   [ 0.95  0.05]  -------> Influenza\n",
        "f_Sm -----   [ 0.8  0.2]  -------> Smokes\n",
        "Coughing -----   [ 1.  1.]  -------> f_CB\n",
        "Wheezing -----   [ 1.  1.]  -------> f_WB\n",
        "SoreThroat -----   [ 1.  1.]  -------> f_ISo\n",
        "f_CB -----   [ 1.  1.]  -------> Bronchitis\n",
        "f_WB -----   [ 1.  1.]  -------> Bronchitis\n",
        "Smokes -----   [ 0.8  0.2]  -------> f_ISB\n",
        "Bronchitis -----   [ 1.  1.]  -------> f_ISB\n",
        "f_ISB -----   [ 1.  1.]  -------> Influenza\n",
        "f_ISo -----   [ 1.  1.]  -------> Influenza\n",
        "Fever -----   [ 1.  1.]  -------> f_IF\n",
        "Influenza -----   [ 0.95  0.05]  -------> f_IF\n",
        "f_IF -----   [ 1.  1.]  -------> Influenza\n",
        "f_IF -----   [ 0.9075  0.0925]  -------> Fever\n",
        "(array([ 0.8,  0.2]), 1.0)\n"
       ]
      }
     ],
     "prompt_number": 23
    },
    {
     "cell_type": "markdown",
     "metadata": {},
     "source": [
      "### 1.6 Observed variables and probabilistic queries (15 points)\n",
      "We will now use the inference engine to answer probabilistic queries. That is, we will set certain variables to observed values, and obtain the marginals over latent variables. We have already provided functions `set_observed` and `set_latent` that manage a member of Variable called `observed_state`. Modify the `Variable.send_msg` and `Variable.marginal` routines that you wrote before, to use `observed_state` so as to get the required marginals when some nodes are observed."
     ]
    },
    {
     "cell_type": "markdown",
     "metadata": {},
     "source": [
      "### 1.7 Sum-product and MAP states (5 points)\n",
      "A maximum a posteriori state (MAP-state) is an assignment of all latent variables that maximizes the probability of latent variables given observed variables:\n",
      "$$\n",
      "\\mathbf{x}_{\\verb+MAP+} = \\arg\\max _{\\mathbf{x}} p(\\mathbf{x} | \\mathbf{y})\n",
      "$$\n",
      "Could we use the sum-product algorithm to obtain a MAP state? If yes, how? If no, why not?\n"
     ]
    },
    {
     "cell_type": "markdown",
     "metadata": {},
     "source": [
      "## Part 2: The max-sum algorithm\n",
      "Next, we implement the max-sum algorithm as described in section 8.4.5 of Bishop."
     ]
    },
    {
     "cell_type": "code",
     "collapsed": false,
     "input": [
      "# def max_sum(node_list):\n",
      "    \n",
      "#     for node in node_list:\n",
      "#         if len(node.neighbours) == 1:\n",
      "#             node.pending.add(node.neighbours[0])\n",
      "#         pend = node.pending.copy()\n",
      "#         for other in pend:\n",
      "#             node.send_ms_msg(other)\n",
      "#     node_list.reverse()\n",
      "#     #we discard the 1st node because we have already sent this message\n",
      "#     for node in node_list[1:]:\n",
      "#         pend = node.pending.copy()\n",
      "#         for other in pend:\n",
      "#             node.send_ms_msg(other)"
     ],
     "language": "python",
     "metadata": {},
     "outputs": [],
     "prompt_number": 39
    },
    {
     "cell_type": "markdown",
     "metadata": {},
     "source": [
      "### 2.1 Factor to variable messages (10 points)\n",
      "Implement the function `Factor.send_ms_msg` that sends Factor -> Variable messages for the max-sum algorithm. It is analogous to the `Factor.send_sp_msg` function you implemented before."
     ]
    },
    {
     "cell_type": "markdown",
     "metadata": {},
     "source": [
      "### 2.2 Variable to factor messages (10 points)\n",
      "Implement the `Variable.send_ms_msg` function that sends Variable -> Factor messages for the max-sum algorithm."
     ]
    },
    {
     "cell_type": "markdown",
     "metadata": {},
     "source": [
      "### 2.3 Find a MAP state (10 points)\n",
      "\n",
      "Using the same message passing schedule we used for sum-product, implement the max-sum algorithm. For simplicity, we will ignore issues relating to non-unique maxima. So there is no need to implement backtracking; the MAP state is obtained by a per-node maximization (eq. 8.98 in Bishop). Make sure your algorithm works with both latent and observed variables."
     ]
    },
    {
     "cell_type": "markdown",
     "metadata": {},
     "source": [
      "## Part 3: Image Denoising and Loopy BP\n",
      "\n",
      "Next, we will use a loopy version of max-sum to perform denoising on a binary image. The model itself is discussed in Bishop 8.3.3, but we will use loopy max-sum instead of Iterative Conditional Modes as Bishop does.\n",
      "\n",
      "The following code creates some toy data. `im` is a quite large binary image, `test_im` is a smaller synthetic binary image. Noisy versions are also provided."
     ]
    },
    {
     "cell_type": "code",
     "collapsed": false,
     "input": [
      "from pylab import imread, gray\n",
      "# Load the image and binarize\n",
      "# im = np.mean(imread('dalmatian1.png'), axis=2) > 0.5\n",
      "# imshow(im)\n",
      "# gray()\n",
      "\n",
      "# # # Add some noise\n",
      "# noise = np.random.rand(*im.shape) > 0.9\n",
      "# noise_im = np.logical_xor(noise, im)\n",
      "# figure()\n",
      "# imshow(noise_im)\n",
      "\n",
      "test_im = np.zeros((2,2))\n",
      "# test_im[5:8, 3:8] = 1.0\n",
      "# test_im[5,5] = 1.0\n",
      "figure()\n",
      "imshow(test_im)\n",
      "\n",
      "# Add some noise\n",
      "noise = np.random.rand(*test_im.shape) > 0.9\n",
      "noise_test_im = np.logical_xor(noise, test_im)\n",
      "figure()\n",
      "imshow(noise_test_im)"
     ],
     "language": "python",
     "metadata": {},
     "outputs": [
      {
       "metadata": {},
       "output_type": "pyout",
       "prompt_number": 41,
       "text": [
        "<matplotlib.image.AxesImage at 0x5b218d0>"
       ]
      },
      {
       "metadata": {},
       "output_type": "display_data",
       "png": "[encoded data removed]",
       "text": [
        "<matplotlib.figure.Figure at 0x5b29810>"
       ]
      },
      {
       "metadata": {},
       "output_type": "display_data",
       "png": "[encoded data removed]",
       "text": [
        "<matplotlib.figure.Figure at 0x5074b90>"
       ]
      }
     ],
     "prompt_number": 41
    },
    {
     "cell_type": "markdown",
     "metadata": {},
     "source": [
      "### 3.1 Construct factor graph (10 points)\n",
      "Convert the Markov Random Field (Bishop, fig. 8.31) to a factor graph and instantiate it."
     ]
    },
    {
     "cell_type": "code",
     "collapsed": false,
     "input": [
      "observed_variables = {}\n",
      "latent_variables = {}\n",
      "ol_factors = {}\n",
      "o_factors = {}\n",
      "a = array([[1,1],[1,1]])\n",
      "\n",
      "for i,row in enumerate(noise_test_im):\n",
      "    for j,item in enumerate(row):\n",
      "        observed_variables[i,j] = Variable(str(i)+','+str(j),2)\n",
      "        latent_variables[i,j] = Variable(str(i)+','+str(j),2)\n",
      "        ol_factors[i,j] = Factor(str(i)+','+str(j), a ,[observed_variables[i,j] , latent_variables[i,j]])\n",
      "        observed_variables[i,j].set_observed(item)\n",
      "        if i > 0:\n",
      "            o_factors[i,j,i-1,j] = Factor ( str(i)+','+str(j) + ','+ str(i-1)+','+str(j),a ,[observed_variables[i,j] , observed_variables[i-1,j]])\n",
      "        if j > 0:\n",
      "            o_factors[i,j,i,j-1] = Factor ( str(i)+','+str(j) + ','+ str(i)+','+str(j-1) ,a ,[observed_variables[i,j] , observed_variables[i,j-1]])\n"
     ],
     "language": "python",
     "metadata": {},
     "outputs": [],
     "prompt_number": 99
    },
    {
     "cell_type": "markdown",
     "metadata": {},
     "source": [
      "### 3.2 Loopy max-sum (10 points)\n",
      "Implement the loopy max-sum algorithm, by passing messages from randomly chosen nodes iteratively until no more pending messages are created or a maximum number of iterations is reached. \n",
      "\n",
      "Think of a good way to initialize the messages in the graph."
     ]
    },
    {
     "cell_type": "code",
     "collapsed": false,
     "input": [],
     "language": "python",
     "metadata": {},
     "outputs": []
    },
    {
     "cell_type": "code",
     "collapsed": false,
     "input": [],
     "language": "python",
     "metadata": {},
     "outputs": [],
     "prompt_number": 37
    },
    {
     "cell_type": "code",
     "collapsed": false,
     "input": [],
     "language": "python",
     "metadata": {},
     "outputs": []
    }
   ],
   "metadata": {}
  }
 ]
}